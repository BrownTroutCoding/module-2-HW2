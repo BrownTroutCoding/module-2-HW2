{
 "cells": [
  {
   "cell_type": "markdown",
   "metadata": {},
   "source": [
    "# Functions, Scoping, Data Collections 1 & List Comprehensions"
   ]
  },
  {
   "cell_type": "markdown",
   "metadata": {},
   "source": [
    "## Tasks Today:\n",
    "\n",
    "<i>Monday Additions (or, and ... if statements)</i>\n",
    "\n",
    "1) String Manipulation <br>\n",
    " &nbsp;&nbsp;&nbsp;&nbsp; a) strip() <br>\n",
    " &nbsp;&nbsp;&nbsp;&nbsp; b) title() <br>\n",
    "2) Working With Lists <br>\n",
    " &nbsp;&nbsp;&nbsp;&nbsp; a) min() <br>\n",
    " &nbsp;&nbsp;&nbsp;&nbsp; b) max() <br>\n",
    " &nbsp;&nbsp;&nbsp;&nbsp; c) sum() <br>\n",
    " &nbsp;&nbsp;&nbsp;&nbsp; d) sort() <br>\n",
    " &nbsp;&nbsp;&nbsp;&nbsp; e) Copying a List <br>\n",
    " &nbsp;&nbsp;&nbsp;&nbsp; f) 'in' keyword <br>\n",
    " &nbsp;&nbsp;&nbsp;&nbsp; g) 'not in' keyword <br>\n",
    " &nbsp;&nbsp;&nbsp;&nbsp; i) Checking an Empty List <br>\n",
    " &nbsp;&nbsp;&nbsp;&nbsp; j) Removing Instances with a Loop <br>\n",
    "3) List Comprehensions <br>\n",
    "4) Tuples <br>\n",
    " &nbsp;&nbsp;&nbsp;&nbsp; a) sorted() <br>\n",
    "5) Functions <br>\n",
    " &nbsp;&nbsp;&nbsp;&nbsp; a) User-Defined vs. Built-In Functions <br>\n",
    " &nbsp;&nbsp;&nbsp;&nbsp; b) Accepting Parameters <br>\n",
    " &nbsp;&nbsp;&nbsp;&nbsp; c) Default Parameters <br>\n",
    " &nbsp;&nbsp;&nbsp;&nbsp; d) Making an Argument Optional <br>\n",
    " &nbsp;&nbsp;&nbsp;&nbsp; e) Keyword Arguments <br>\n",
    " &nbsp;&nbsp;&nbsp;&nbsp; f) Returning Values <br>\n",
    " &nbsp;&nbsp;&nbsp;&nbsp; g) *args <br>\n",
    " &nbsp;&nbsp;&nbsp;&nbsp; h) Docstring <br>\n",
    " &nbsp;&nbsp;&nbsp;&nbsp; i) Using a User Function in a Loop <br>\n",
    "6) Scope"
   ]
  },
  {
   "cell_type": "markdown",
   "metadata": {},
   "source": [
    "### String Manipulation"
   ]
  },
  {
   "cell_type": "markdown",
   "metadata": {},
   "source": [
    "##### .lstrip()"
   ]
  },
  {
   "cell_type": "code",
   "execution_count": 6,
   "metadata": {},
   "outputs": [
    {
     "name": "stdout",
     "output_type": "stream",
     "text": [
      "John Smith\n"
     ]
    }
   ],
   "source": [
    "# string.lstrip()\n",
    "name = \"      hJohn Smith\"\n",
    "stripped_name = name.lstrip(\" \" \"h\")\n",
    "print(stripped_name)"
   ]
  },
  {
   "cell_type": "markdown",
   "metadata": {},
   "source": [
    "##### .rstrip()"
   ]
  },
  {
   "cell_type": "code",
   "execution_count": 7,
   "metadata": {},
   "outputs": [
    {
     "name": "stdout",
     "output_type": "stream",
     "text": [
      "Bill Ross\n"
     ]
    }
   ],
   "source": [
    "# string.rstrip()\n",
    "name = \"Bill Ross    th\"\n",
    "print(name.rstrip(\" \" \"th\"))"
   ]
  },
  {
   "cell_type": "markdown",
   "metadata": {},
   "source": [
    "##### .strip()"
   ]
  },
  {
   "cell_type": "code",
   "execution_count": 8,
   "metadata": {},
   "outputs": [
    {
     "name": "stdout",
     "output_type": "stream",
     "text": [
      "John Smith\n"
     ]
    }
   ],
   "source": [
    "# string.strip()\n",
    "name = \"      John Smith  \"\n",
    "print(name.strip())"
   ]
  },
  {
   "cell_type": "markdown",
   "metadata": {},
   "source": [
    "##### .title()"
   ]
  },
  {
   "cell_type": "code",
   "execution_count": 10,
   "metadata": {},
   "outputs": [
    {
     "name": "stdout",
     "output_type": "stream",
     "text": [
      "Barack Obama\n",
      "DONALD TRUMP\n"
     ]
    }
   ],
   "source": [
    "# string.title()\n",
    "president = \"barack obama\"\n",
    "print(president.title())\n",
    "\n",
    "# Uppercase\n",
    "president_2 = \"donald trump\"\n",
    "print(president_2.upper())"
   ]
  },
  {
   "cell_type": "markdown",
   "metadata": {},
   "source": [
    "### String Exercise <br>\n",
    "<p>Strip all white space and capitalize every name in the list given</p>"
   ]
  },
  {
   "cell_type": "code",
   "execution_count": 45,
   "metadata": {},
   "outputs": [
    {
     "name": "stdout",
     "output_type": "stream",
     "text": [
      "['Connor', 'Max', 'Evan', 'Jordan']\n"
     ]
    }
   ],
   "source": [
    "names = ['    coNNor', 'max', ' EVan ', 'JORDAN']\n",
    "# HINT: You will need to use a for loop for iteration\n",
    "\n",
    "for i in range(len(names)):\n",
    "    names[i] = names[i].strip()\n",
    "    names[i] = names[i].lower()\n",
    "    names[i] = names[i].title()\n",
    "\n",
    "print(names)"
   ]
  },
  {
   "cell_type": "markdown",
   "metadata": {},
   "source": [
    "### Working With Lists"
   ]
  },
  {
   "cell_type": "markdown",
   "metadata": {},
   "source": [
    "##### min()"
   ]
  },
  {
   "cell_type": "code",
   "execution_count": 47,
   "metadata": {},
   "outputs": [
    {
     "name": "stdout",
     "output_type": "stream",
     "text": [
      "2\n"
     ]
    }
   ],
   "source": [
    "# min(list)\n",
    "numbers = [4, 2, 93, 45, 10]\n",
    "\n",
    "print(min(numbers))"
   ]
  },
  {
   "cell_type": "markdown",
   "metadata": {},
   "source": [
    "##### max()"
   ]
  },
  {
   "cell_type": "code",
   "execution_count": 48,
   "metadata": {},
   "outputs": [
    {
     "name": "stdout",
     "output_type": "stream",
     "text": [
      "93\n"
     ]
    }
   ],
   "source": [
    "# max(list)\n",
    "\n",
    "print(max(numbers))\n"
   ]
  },
  {
   "cell_type": "markdown",
   "metadata": {},
   "source": [
    "##### sum()"
   ]
  },
  {
   "cell_type": "code",
   "execution_count": 49,
   "metadata": {},
   "outputs": [
    {
     "name": "stdout",
     "output_type": "stream",
     "text": [
      "154\n"
     ]
    }
   ],
   "source": [
    "# sum(list)\n",
    "\n",
    "print(sum(numbers))"
   ]
  },
  {
   "cell_type": "markdown",
   "metadata": {},
   "source": [
    "##### sorted()"
   ]
  },
  {
   "cell_type": "code",
   "execution_count": 53,
   "metadata": {},
   "outputs": [
    {
     "name": "stdout",
     "output_type": "stream",
     "text": [
      "[4, 2, 93, 45, 10]\n",
      "[2, 4, 10, 45, 93]\n",
      "[4, 2, 93, 45, 10]\n"
     ]
    }
   ],
   "source": [
    "# sorted(list)\n",
    "print(numbers)\n",
    "\n",
    "sorted_numbers = sorted(numbers)\n",
    "print(sorted_numbers)\n",
    "print(numbers)"
   ]
  },
  {
   "cell_type": "markdown",
   "metadata": {},
   "source": [
    "##### .sort() <br>\n",
    "<p>Difference between sort and sorted, is that sorted doesn't change original list it returns a copy, while .sort changes the original list</p>"
   ]
  },
  {
   "cell_type": "code",
   "execution_count": 54,
   "metadata": {},
   "outputs": [
    {
     "name": "stdout",
     "output_type": "stream",
     "text": [
      "Before sort: [4, 2, 93, 45, 10]\n",
      "None\n",
      "[2, 4, 10, 45, 93]\n"
     ]
    }
   ],
   "source": [
    "# list.sort()\n",
    "\n",
    "# use sorted when you don't want to alter original list, use .sort() when you want to alter original list\n",
    "\n",
    "print(f'Before sort: {numbers}')\n",
    "print(numbers.sort())\n",
    "print(numbers)"
   ]
  },
  {
   "cell_type": "markdown",
   "metadata": {},
   "source": [
    "##### Copying a List"
   ]
  },
  {
   "cell_type": "code",
   "execution_count": 55,
   "metadata": {},
   "outputs": [
    {
     "name": "stdout",
     "output_type": "stream",
     "text": [
      "[2, 4, 10, 45, 93]\n"
     ]
    }
   ],
   "source": [
    "# [:] copies a list, doesn't alter original\n",
    "list_1 = numbers[:]\n",
    "print(list_1)"
   ]
  },
  {
   "cell_type": "markdown",
   "metadata": {},
   "source": [
    "##### 'in' keyword"
   ]
  },
  {
   "cell_type": "code",
   "execution_count": 59,
   "metadata": {},
   "outputs": [
    {
     "name": "stdout",
     "output_type": "stream",
     "text": [
      "Not Found\n",
      "Not Found\n",
      "Found\n",
      "Not Found\n",
      "Not Found\n"
     ]
    }
   ],
   "source": [
    "i_teachers = [\"Joel\", \"Derek\", \"Conner\", \"Brian\", \"Joe\"]\n",
    "\n",
    "# if 'Billy Bob' in i_teachers:\n",
    "#     print('Coding Temple Instructor')\n",
    "# else:\n",
    "#     print('Not an instructor')\n",
    "    \n",
    "for name in i_teachers:\n",
    "    if 'C' in name[0]:\n",
    "        print('Found')\n",
    "    else:\n",
    "        print('Not Found')"
   ]
  },
  {
   "cell_type": "markdown",
   "metadata": {},
   "source": [
    "##### 'not in' keyword"
   ]
  },
  {
   "cell_type": "code",
   "execution_count": 60,
   "metadata": {},
   "outputs": [
    {
     "name": "stdout",
     "output_type": "stream",
     "text": [
      "Not a CT Instructor\n"
     ]
    }
   ],
   "source": [
    "if 'zack' not in i_teachers:\n",
    "    print('Not a CT Instructor')"
   ]
  },
  {
   "cell_type": "markdown",
   "metadata": {},
   "source": [
    "##### Checking an Empty List"
   ]
  },
  {
   "cell_type": "code",
   "execution_count": 63,
   "metadata": {},
   "outputs": [
    {
     "name": "stdout",
     "output_type": "stream",
     "text": [
      "Is mayo a topping or a sauce?\n"
     ]
    }
   ],
   "source": [
    "# if l_1: or if l_1 = []\n",
    "list_2 = []\n",
    "\n",
    "if list_2 == []:\n",
    "    print('Is mayo a topping or a sauce?')"
   ]
  },
  {
   "cell_type": "markdown",
   "metadata": {},
   "source": [
    "##### Removing Instances with a Loop"
   ]
  },
  {
   "cell_type": "code",
   "execution_count": 78,
   "metadata": {},
   "outputs": [
    {
     "name": "stdout",
     "output_type": "stream",
     "text": [
      "['Conner', 'Joel', 'Max', 'Evan', 'Rob']\n",
      "['Conner', 'Joel', 'Max', 'Rob']\n"
     ]
    }
   ],
   "source": [
    "# while, remove\n",
    "names = ['Conner', \"Joel\", 'Max', \"Evan\", \"Evan\", \"Rob\"]\n",
    "\n",
    "# This only removes one \"Evan\"\n",
    "for name in names:\n",
    "    if name == \"Evan\":\n",
    "        names.remove(\"Evan\")\n",
    "print(names)\n",
    "\n",
    "# This clears out all Evan names if repeated, takes longer as it repeates from the beginning of the list\n",
    "while 'Evan' in names:\n",
    "    names.remove('Evan')\n",
    "print(names)"
   ]
  },
  {
   "cell_type": "markdown",
   "metadata": {},
   "source": [
    "### List Exercise <br>\n",
    "<p>Remove all duplicates<br><b>Extra: Create a program that will remove any duplicates from a given list</b></p>"
   ]
  },
  {
   "cell_type": "code",
   "execution_count": 84,
   "metadata": {},
   "outputs": [
    {
     "name": "stdout",
     "output_type": "stream",
     "text": [
      "The original list is : ['connor', 'connor', 'bob', 'connor', 'evan', 'max', 'evan', 2, 2, 2, 3, 3, 4, 'bob', 'kevin']\n",
      "The list after removing duplicated : ['connor', 'bob', 'evan', 'max', 2, 3, 4, 'kevin']\n"
     ]
    }
   ],
   "source": [
    "names = ['connor', 'connor', 'bob', 'connor', 'evan', 'max', 'evan', 2, 2, 2, 3, 3, 4, 'bob', 'kevin']\n",
    "# Hint 1: You will need an append\n",
    "# Hint 2: Using an empty list will make life easier\n",
    "# Desired output: ['connor', 'bob', 'evan', 'max', 2, 3, 4, 5, 'bob', 'kevin']\n",
    "\n",
    "# Initializing list\n",
    "print(\"The original list is : \" + str(names))\n",
    "\n",
    "# use list comprehension to remove dupes\n",
    "new_list = []\n",
    "[new_list.append(x) for x in names if x not in new_list]\n",
    "\n",
    "# printing new list after removal\n",
    "print(\"The list after removing duplicates : \" + str(new_list))\n"
   ]
  },
  {
   "cell_type": "markdown",
   "metadata": {},
   "source": [
    "### List Comprehensions <br>\n",
    "<p>Creating a quickly generated list to work with<br>*result*  = [*transform*    *iteration*         *filter*     ]</p>"
   ]
  },
  {
   "cell_type": "markdown",
   "metadata": {},
   "source": [
    "##### In a list comprehension we have a few pieces:\n",
    "1. The first is the counter/ variable - IN this the variable is x\n",
    "2. then we have a transform for the variable\n",
    "3. The finale part of a list comp is called the condition\n",
    "\n",
    "```python\n",
    "    [variable, transform, condition]\n",
    "```"
   ]
  },
  {
   "cell_type": "code",
   "execution_count": 94,
   "metadata": {},
   "outputs": [
    {
     "name": "stdout",
     "output_type": "stream",
     "text": [
      "[0, 4, 16, 36, 64, 100, 144, 196, 256, 324]\n",
      "[0, 4, 16, 36, 64, 100, 144, 196, 256, 324]\n"
     ]
    }
   ],
   "source": [
    "# number comprehension\n",
    "\n",
    "# With a regular for loop\n",
    "nums = []\n",
    "\n",
    "for i in range(20):\n",
    "    if i % 2 == 0:\n",
    "        nums.append(i**2)\n",
    "print(nums)\n",
    "\n",
    "# IN a list comprehension we have a few pieces:\n",
    "# The first is the counter/ variable - IN this the variable is x\n",
    "# Then we have a transform for the variable\n",
    "# The finale part of a list comp is called the condition\n",
    "# [variable, transform, condition]\n",
    "\n",
    "nums_comp = [i**2 for i in range(20) if i % 2 == 0]\n",
    "print(nums_comp)"
   ]
  },
  {
   "cell_type": "markdown",
   "metadata": {},
   "source": [
    "There are a few benefits to using List comprehensions. The most obvious would be that we now have shorter code to work with instead of using 3+ lines of code in the for loop variant.\n",
    "\n",
    "Another is an added benefit to memory usage. Since the list's memory is allocated first before adding elements to it, we don't have to resize the list once we add elements to it.\n",
    "\n",
    "Lastly, list comprehensions are considered the \"pythonic\" way to write code by the PEP8 standards (Python Style Guide)"
   ]
  },
  {
   "cell_type": "code",
   "execution_count": 2,
   "metadata": {},
   "outputs": [
    {
     "name": "stdout",
     "output_type": "stream",
     "text": [
      "[0, 1, 4, 9, 16, 25, 36, 49, 64, 81]\n",
      "[0, 1, 4, 9, 16, 25, 36, 49, 64, 81]\n",
      "[0, 1, 4, 9, 16, 25, 36, 49, 64, 81]\n"
     ]
    }
   ],
   "source": [
    "# square number comprehension\n",
    "# comprehension\n",
    "squares = [x**2 for x in range(10)]\n",
    "print(squares)\n",
    "\n",
    "# or\n",
    "print([x**2 for x in range(10)])\n",
    "\n",
    "# old version\n",
    "squares_reg = []\n",
    "for x in range(10):\n",
    "    squares_reg.append(x**2)\n",
    "print(squares_reg)"
   ]
  },
  {
   "cell_type": "code",
   "execution_count": 3,
   "metadata": {},
   "outputs": [
    {
     "name": "stdout",
     "output_type": "stream",
     "text": [
      "['C', 'M', 'E', 'R']\n",
      "['C', 'M', 'E', 'R']\n"
     ]
    }
   ],
   "source": [
    "# string comprehension\n",
    "\n",
    "names = ['Conner', 'Max', 'Evan', 'Rob']\n",
    "\n",
    "first_char_comp = [name[0] for name in names]\n",
    "print(first_char_comp)\n",
    "\n",
    "# Old version\n",
    "first_char = []\n",
    "\n",
    "for name in names:\n",
    "    first_char.append(name[0])\n",
    "print(first_char)"
   ]
  },
  {
   "cell_type": "code",
   "execution_count": 7,
   "metadata": {},
   "outputs": [
    {
     "name": "stdout",
     "output_type": "stream",
     "text": [
      "['Conner']\n"
     ]
    }
   ],
   "source": [
    "# comprehension\n",
    "c_names = [first_name for first_name in names if first_name[0] == 'C']\n",
    "print(c_names)"
   ]
  },
  {
   "cell_type": "code",
   "execution_count": 8,
   "metadata": {},
   "outputs": [
    {
     "name": "stdout",
     "output_type": "stream",
     "text": [
      "['Conner']\n"
     ]
    }
   ],
   "source": [
    "# old\n",
    "c_names_reg = []\n",
    "for first_name in names:\n",
    "    if first_name[0] == 'C':\n",
    "        c_names_reg.append(first_name)\n",
    "print(c_names)"
   ]
  },
  {
   "cell_type": "markdown",
   "metadata": {},
   "source": [
    "### Tuples <br>\n",
    "<p><b>Defined as an immutable list</b></p><br>Seperated by commas using parenthesis"
   ]
  },
  {
   "cell_type": "code",
   "execution_count": 9,
   "metadata": {},
   "outputs": [
    {
     "name": "stdout",
     "output_type": "stream",
     "text": [
      "1\n",
      "3\n",
      "1\n",
      "2\n",
      "4\n"
     ]
    },
    {
     "ename": "AttributeError",
     "evalue": "'tuple' object has no attribute 'append'",
     "output_type": "error",
     "traceback": [
      "\u001b[1;31m---------------------------------------------------------------------------\u001b[0m",
      "\u001b[1;31mAttributeError\u001b[0m                            Traceback (most recent call last)",
      "Input \u001b[1;32mIn [9]\u001b[0m, in \u001b[0;36m<cell line: 17>\u001b[1;34m()\u001b[0m\n\u001b[0;32m     16\u001b[0m \u001b[38;5;66;03m# Looping over tuple with an index using range and len\u001b[39;00m\n\u001b[0;32m     17\u001b[0m \u001b[38;5;28;01mfor\u001b[39;00m number \u001b[38;5;129;01min\u001b[39;00m \u001b[38;5;28mrange\u001b[39m(\u001b[38;5;28mlen\u001b[39m(tup_1)):\n\u001b[1;32m---> 18\u001b[0m     \u001b[43mtup_1\u001b[49m\u001b[38;5;241;43m.\u001b[39;49m\u001b[43mappend\u001b[49m(number)\n\u001b[0;32m     19\u001b[0m \u001b[38;5;66;03m#     print(tup_1[number])\u001b[39;00m\n\u001b[0;32m     20\u001b[0m     \u001b[38;5;28mprint\u001b[39m(popped_num)\n",
      "\u001b[1;31mAttributeError\u001b[0m: 'tuple' object has no attribute 'append'"
     ]
    }
   ],
   "source": [
    "# cannot change them\n",
    "tup_1 = 1, 2, 4 # first way of creating a tuple\n",
    "tup_2 = (1, 2, 4) # Other way of creating a tuple\n",
    "\n",
    "# print(type(tup_1))\n",
    "# print(type(tup_2))\n",
    "\n",
    "print(tup_1[0])\n",
    "\n",
    "print(len(tup_1))\n",
    "\n",
    "# Looping over tuples\n",
    "for number in tup_1:\n",
    "    print(number)\n",
    "    \n",
    "# Looping over tuple with an index using range and len\n",
    "for number in range(len(tup_1)):\n",
    "    tup_1.append(number)\n",
    "#     print(tup_1[number])\n",
    "    print(popped_num)"
   ]
  },
  {
   "cell_type": "markdown",
   "metadata": {},
   "source": [
    "##### sorted()"
   ]
  },
  {
   "cell_type": "code",
   "execution_count": 25,
   "metadata": {},
   "outputs": [
    {
     "name": "stdout",
     "output_type": "stream",
     "text": [
      "[1, 3, 5, 9, 20, 45]\n",
      "(1, 3, 3, 4, 5, 9, 20, 33, 45, 66, 77)\n",
      "<class 'list'>\n",
      "(20, 5, 1, 3, 9, 45)\n"
     ]
    }
   ],
   "source": [
    "tup_3 = (20, 5, 1, 3, 9, 45)\n",
    "\n",
    "sorted_tup = sorted(tup_3)\n",
    "print(sorted_tup)\n",
    "\n",
    "random_list = [3, 4, 66, 77, 33]\n",
    "combine_list = sorted(sorted_tup + random_list)\n",
    "\n",
    "new_tup = tuple(combine_list)\n",
    "\n",
    "print(new_tup)\n",
    "print(type(sorted_tup))\n",
    "print(tup_3)"
   ]
  },
  {
   "cell_type": "markdown",
   "metadata": {},
   "source": [
    "##### Adding values to a Tuple"
   ]
  },
  {
   "cell_type": "code",
   "execution_count": 26,
   "metadata": {},
   "outputs": [
    {
     "name": "stdout",
     "output_type": "stream",
     "text": [
      "(1, 2, 4)\n",
      "(1, 2, 4, 5)\n"
     ]
    }
   ],
   "source": [
    "print(tup_1)\n",
    "\n",
    "tup_1 = tup_1 + (5,)\n",
    "print(tup_1)"
   ]
  },
  {
   "cell_type": "markdown",
   "metadata": {},
   "source": [
    "## Functions"
   ]
  },
  {
   "cell_type": "markdown",
   "metadata": {},
   "source": [
    "##### User-Defined vs. Built-In Functions"
   ]
  },
  {
   "cell_type": "code",
   "execution_count": 29,
   "metadata": {},
   "outputs": [
    {
     "name": "stdout",
     "output_type": "stream",
     "text": [
      "Hello World\n"
     ]
    }
   ],
   "source": [
    "# User defined!\n",
    "# def sayHello():\n",
    "#     return 'Hello World'\n",
    "\n",
    "print(sayHello())\n",
    "\n"
   ]
  },
  {
   "cell_type": "markdown",
   "metadata": {},
   "source": [
    "##### Accepting Parameters"
   ]
  },
  {
   "cell_type": "code",
   "execution_count": 42,
   "metadata": {},
   "outputs": [
    {
     "name": "stdout",
     "output_type": "stream",
     "text": [
      "What's your name? ha\n",
      "Hello, Joel Carter\n"
     ]
    },
    {
     "data": {
      "text/plain": [
       "'Hello, ha Beveridge'"
      ]
     },
     "execution_count": 42,
     "metadata": {},
     "output_type": "execute_result"
    }
   ],
   "source": [
    "# ARGUMENTS and PARAMETERS\n",
    "# Order matters\n",
    "# Variable can be of any type of object (float, integer, string, string, etc)\n",
    "def FullName(first_name, last_name):\n",
    "    return f'Hello, {first_name} {last_name}'\n",
    "\n",
    "a_name = input(\"What's your name? \")\n",
    "\n",
    "print(FullName('Joel', 'Carter'))\n",
    "FullName(a_name, 'Beveridge')"
   ]
  },
  {
   "cell_type": "markdown",
   "metadata": {},
   "source": [
    "##### Default Parameters"
   ]
  },
  {
   "cell_type": "code",
   "execution_count": 50,
   "metadata": {},
   "outputs": [
    {
     "name": "stdout",
     "output_type": "stream",
     "text": [
      "The name is Bond... James Bond!\n"
     ]
    }
   ],
   "source": [
    "# Default parameters need to be decalred AFTER non-default parameters each time\n",
    "\n",
    "def printAgentName(first_name, last_name = 'Bond'):\n",
    "    return f'The name is {last_name}... {first_name} {last_name}!'\n",
    "\n",
    "print(printAgentName('James'))\n",
    "\n",
    "# do not do this!\n",
    "# def printAgentName(last_name = 'ever', first_name):\n",
    "#     return f'Last name {last_name}, first name {first_name}!'\n",
    "\n",
    "# print(printAgentName(first_name = 'Greatest'))"
   ]
  },
  {
   "cell_type": "markdown",
   "metadata": {},
   "source": [
    "##### Making an Argument Optional"
   ]
  },
  {
   "cell_type": "code",
   "execution_count": 54,
   "metadata": {},
   "outputs": [
    {
     "data": {
      "text/plain": [
       "'Hello Mr Carrot Eater'"
      ]
     },
     "execution_count": 54,
     "metadata": {},
     "output_type": "execute_result"
    }
   ],
   "source": [
    "def printHorseName(first, middle = '', last = 'Eater'):\n",
    "    return f'Hello {first} {middle} {last}'\n",
    "\n",
    "printHorseName(\"Mr\", \"Carrot\")"
   ]
  },
  {
   "cell_type": "markdown",
   "metadata": {},
   "source": [
    "##### Keyword Arguments"
   ]
  },
  {
   "cell_type": "code",
   "execution_count": 56,
   "metadata": {},
   "outputs": [
    {
     "data": {
      "text/plain": [
       "\"The Hero's name is Spider Man and superpower is Spidey Sense\""
      ]
     },
     "execution_count": 56,
     "metadata": {},
     "output_type": "execute_result"
    }
   ],
   "source": [
    "# last_name='Max', first_name='Smith' in the function call\n",
    "def printSuperHero(name, power = 'flying'):\n",
    "    return f\"The Hero's name is {name} and superpower is {power}\"\n",
    "\n",
    "printSuperHero(power = 'Spidey Sense', name = 'Spider Man')\n",
    "# see above"
   ]
  },
  {
   "cell_type": "markdown",
   "metadata": {},
   "source": [
    "# Creating a start, stop, step function"
   ]
  },
  {
   "cell_type": "code",
   "execution_count": 59,
   "metadata": {},
   "outputs": [
    {
     "name": "stdout",
     "output_type": "stream",
     "text": [
      "5\n",
      "6\n",
      "7\n",
      "8\n",
      "9\n",
      "10\n",
      "11\n",
      "12\n",
      "13\n",
      "14\n",
      "15\n",
      "16\n",
      "17\n",
      "18\n",
      "19\n"
     ]
    }
   ],
   "source": [
    "def my_range(stop, start=0, step=1):\n",
    "    for i in range(start,stop,step):\n",
    "        print(i)\n",
    "        \n",
    "my_range(20,5)"
   ]
  },
  {
   "cell_type": "markdown",
   "metadata": {},
   "source": [
    "##### Returning Values"
   ]
  },
  {
   "cell_type": "code",
   "execution_count": 60,
   "metadata": {},
   "outputs": [
    {
     "data": {
      "text/plain": [
       "7"
      ]
     },
     "execution_count": 60,
     "metadata": {},
     "output_type": "execute_result"
    }
   ],
   "source": [
    "def addNums(num1, num2):\n",
    "    return num1 + num2\n",
    "\n",
    "addNums(5,2)"
   ]
  },
  {
   "cell_type": "markdown",
   "metadata": {},
   "source": [
    "##### *args"
   ]
  },
  {
   "cell_type": "code",
   "execution_count": 67,
   "metadata": {},
   "outputs": [
    {
     "name": "stdout",
     "output_type": "stream",
     "text": [
      "36\n",
      "('DragonZord', 'Vanilla', 2, 3)\n",
      "{'testing': 'joel'}\n",
      "DragonZord\n",
      "Vanilla\n",
      "2\n",
      "3\n",
      "testing\n"
     ]
    }
   ],
   "source": [
    "# Arguments, takes any # of arguments as parameters\n",
    "# Must be last if multiple parameters are present\n",
    "def printArgs(num1, *args, **kwargs):\n",
    "    print(num1)\n",
    "    print(args)\n",
    "    print(kwargs)\n",
    "    \n",
    "    for arg in args:\n",
    "        print(arg)\n",
    "        \n",
    "    for kwarg in kwargs:\n",
    "        print(kwarg)\n",
    "\n",
    "printArgs(36, 'DragonZord', 'Vanilla', 2, 3, testing=\"joel\")"
   ]
  },
  {
   "cell_type": "markdown",
   "metadata": {},
   "source": [
    "##### Docstring"
   ]
  },
  {
   "cell_type": "code",
   "execution_count": 2,
   "metadata": {},
   "outputs": [
    {
     "name": "stdout",
     "output_type": "stream",
     "text": [
      "George\n",
      "Ramon\n",
      "Peter\n",
      "Help on function printNames in module __main__:\n",
      "\n",
      "printNames(list_1)\n",
      "    printNames(list_1)\n",
      "    function requires a list to be passed as a parameter\n",
      "    and will print the contents of the list. Expecting a list of\n",
      "    names(strings) to be passed.\n",
      "\n"
     ]
    }
   ],
   "source": [
    "def printNames(list_1):\n",
    "    '''\n",
    "        printNames(list_1)\n",
    "        function requires a list to be passed as a parameter\n",
    "        and will print the contents of the list. Expecting a list of\n",
    "        names(strings) to be passed.\n",
    "    '''\n",
    "    for name in list_1:\n",
    "        print(name)\n",
    "printNames(['George', 'Ramon', 'Peter'])\n",
    "help(printNames)"
   ]
  },
  {
   "cell_type": "markdown",
   "metadata": {},
   "source": [
    "##### Using a User Function in a Loop"
   ]
  },
  {
   "cell_type": "code",
   "execution_count": 8,
   "metadata": {},
   "outputs": [
    {
     "name": "stdout",
     "output_type": "stream",
     "text": [
      "Are you ready to quit? nop]\n",
      "What do you want to do nothing\n",
      "nothing\n",
      "Ready yet? quit\n"
     ]
    }
   ],
   "source": [
    "def printInput(answer):\n",
    "    print(answer)\n",
    "    \n",
    "response = input('Are you ready to quit? ')\n",
    "\n",
    "while True:\n",
    "    ask = input('What do you want to do ')\n",
    "    printInput(ask)\n",
    "    \n",
    "    response = input('Ready yet? ')\n",
    "    if response.lower() == 'quit':\n",
    "        break"
   ]
  },
  {
   "cell_type": "markdown",
   "metadata": {},
   "source": [
    "## Function Exercise <br>\n",
    "<p>Write a function that loops through a list of first_names and a list of last_names, combines the two and return a list of full_names</p>"
   ]
  },
  {
   "cell_type": "code",
   "execution_count": 33,
   "metadata": {},
   "outputs": [
    {
     "name": "stdout",
     "output_type": "stream",
     "text": [
      "['John Smith', 'Evan Smith', 'Jordan Williams', 'Max Bell']\n"
     ]
    }
   ],
   "source": [
    "first_name = ['John', 'Evan', 'Jordan', 'Max']\n",
    "last_name = ['Smith', 'Smith', 'Williams', 'Bell']\n",
    "\n",
    "# Output: ['John Smith', 'Evan Smith', 'Jordan Williams', 'Max Bell']\n",
    "def PrintFullName(first_name, last_name):\n",
    "    return [first + \" \" + last for first, last in zip(first_name, last_name)]\n",
    "\n",
    "print(PrintFullName(first_name, last_name))"
   ]
  },
  {
   "cell_type": "markdown",
   "metadata": {},
   "source": [
    "## Scope <br>\n",
    "<p>Scope refers to the ability to access variables, different types of scope include:<br>a) Global<br>b) Function (local)<br>c) Class (local)</p>"
   ]
  },
  {
   "cell_type": "code",
   "execution_count": 40,
   "metadata": {},
   "outputs": [
    {
     "name": "stdout",
     "output_type": "stream",
     "text": [
      "7\n",
      "10\n"
     ]
    }
   ],
   "source": [
    "number = 3 # Global variable; accessible ANYWHERE in my code now\n",
    "\n",
    "def myFunc():\n",
    "    number = 6 # Local function variable\n",
    "    number += 4\n",
    "    return number\n",
    "\n",
    "print(number + 4)\n",
    "print(myFunc())"
   ]
  },
  {
   "cell_type": "markdown",
   "metadata": {},
   "source": [
    "# Exercises"
   ]
  },
  {
   "cell_type": "markdown",
   "metadata": {},
   "source": [
    "## Exercise 1 <br>\n",
    "<p>Given a list as a parameter,write a function that returns a list of numbers that are less than ten</b></i></p><br>\n",
    "<p> For example: Say your input parameter to the function is [1,11,14,5,8,9]...Your output should [1,5,8,9]</p>"
   ]
  },
  {
   "cell_type": "code",
   "execution_count": 108,
   "metadata": {},
   "outputs": [
    {
     "name": "stdout",
     "output_type": "stream",
     "text": [
      "[1, 5, 8, 9]\n"
     ]
    }
   ],
   "source": [
    "# Use the following list - [1,11,14,5,8,9]\n",
    "\n",
    "l_1 = [1,11,14,5,8,9]\n",
    "new_list = []\n",
    "\n",
    "def func(l_1):\n",
    "    return [x for x in old_list if x < 10]\n",
    "print(func(l_1))"
   ]
  },
  {
   "cell_type": "markdown",
   "metadata": {},
   "source": [
    "## Exercise 2 <br>\n",
    "<p>Write a function that takes in two lists and returns the two lists merged together and sorted<br>\n",
    "<b><i>Hint: You can use the .sort() method</i></b></p>"
   ]
  },
  {
   "cell_type": "code",
   "execution_count": 123,
   "metadata": {},
   "outputs": [
    {
     "name": "stdout",
     "output_type": "stream",
     "text": [
      "[1, 2, 3, 3, 4, 4, 5, 5, 6, 6, 7, 8, 10]\n"
     ]
    }
   ],
   "source": [
    "l_1 = [1,2,3,4,5,6]\n",
    "l_2 = [3,4,5,6,7,8,10]\n",
    "l_3 = []\n",
    "\n",
    "def combine(l_1, l_2):\n",
    "    l_3 = l_1 + l_2\n",
    "    l_3.sort()\n",
    "    return l_3\n",
    "print(combine(l_1, l_2))\n"
   ]
  }
 ],
 "metadata": {
  "kernelspec": {
   "display_name": "Python 3 (ipykernel)",
   "language": "python",
   "name": "python3"
  },
  "language_info": {
   "codemirror_mode": {
    "name": "ipython",
    "version": 3
   },
   "file_extension": ".py",
   "mimetype": "text/x-python",
   "name": "python",
   "nbconvert_exporter": "python",
   "pygments_lexer": "ipython3",
   "version": "3.9.12"
  }
 },
 "nbformat": 4,
 "nbformat_minor": 2
}
